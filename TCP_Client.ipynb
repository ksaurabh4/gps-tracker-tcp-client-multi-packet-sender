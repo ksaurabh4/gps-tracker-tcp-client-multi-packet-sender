{
  "nbformat": 4,
  "nbformat_minor": 0,
  "metadata": {
    "colab": {
      "provenance": [],
      "toc_visible": true,
      "authorship_tag": "ABX9TyP+05uHUB3cPOfSa18awJg4",
      "include_colab_link": true
    },
    "kernelspec": {
      "name": "python3",
      "display_name": "Python 3"
    },
    "language_info": {
      "name": "python"
    }
  },
  "cells": [
    {
      "cell_type": "markdown",
      "metadata": {
        "id": "view-in-github",
        "colab_type": "text"
      },
      "source": [
        "<a href=\"https://colab.research.google.com/github/ksaurabh4/gps-tracker-tcp-client-multi-packet-sender/blob/main/TCP_Client.ipynb\" target=\"_parent\"><img src=\"https://colab.research.google.com/assets/colab-badge.svg\" alt=\"Open In Colab\"/></a>"
      ]
    },
    {
      "cell_type": "code",
      "execution_count": 6,
      "metadata": {
        "colab": {
          "base_uri": "https://localhost:8080/"
        },
        "id": "g-nQ0pf2SE_p",
        "outputId": "62ccc267-f184-4064-d0bb-a7e602ff78d3"
      },
      "outputs": [
        {
          "output_type": "stream",
          "name": "stdout",
          "text": [
            "\n",
            "Sending ASCII data:\n",
            "Connecting to 173.212.212.92 on port 6131\n",
            "Sending ASCII data: *HQ200862406278000161,AB1&A1103312243149711422697470000040724&B0100000000&F0000&R2900&N04&Y3246011F4202C1460D351F4202C146113A1F4204C1460B3C&Q06f4911e6155e127b04e2640509e325091e3cc45ed4e788a20e024a151f81a679be2a45250d4f7e7dff75b&T63&J000300&K00100&X(k89882280666065148193)(10)(J0000)(PMODE,0,10)(20)(5000A)#\n",
            "No response received within 1 seconds, continuing...\n",
            "Sending ASCII data: *HQ201999999,BA&A1656512233362911356523660000230618&B0100060010&C00000<6<&F0000&R2405&V0109&W0000003E&K00100&T65&I54600027A00FCB6227A00FCA5727A00E955327A00E8B5327A00F9748&Y54600027A000000FCB6227A000000FCA5727A000000E955327A000000E8B5327A000000F9748&b00A7E81007607#\n",
            "Received: 2a4851323059424123\n",
            "Closing socket\n"
          ]
        }
      ],
      "source": [
        "# ===============================================\n",
        "#          GPS Tracker TCP Client for Sending Hex/ASCII Data\n",
        "#          Author  : Kumar Saurabh\n",
        "#          Version : v1.1\n",
        "#          License : MIT\n",
        "# ===============================================\n",
        "\n",
        "import socket\n",
        "import time\n",
        "\n",
        "def hex_to_bytes(hex_str):\n",
        "    \"\"\"Convert a hex string to bytes.\"\"\"\n",
        "    return bytes.fromhex(hex_str)\n",
        "\n",
        "def tcp_client(ip, port, data_list, data_format='hex', receive_response=True, timeout=1):\n",
        "    \"\"\"\n",
        "    Send multiple data packets (hex or ASCII) to a TCP server over the same connection.\n",
        "\n",
        "    Args:\n",
        "        ip (str): The IP address of the server.\n",
        "        port (int): The port of the server.\n",
        "        data_list (list): A list of data (hex strings or ASCII strings) to be sent.\n",
        "        data_format (str): Format of the data to be sent ('hex' or 'ascii').\n",
        "        receive_response (bool): Whether to receive a response after sending the data.\n",
        "        timeout (int): Timeout for receiving a response in seconds.\n",
        "    \"\"\"\n",
        "    try:\n",
        "        # Create a TCP/IP socket\n",
        "        client_socket = socket.socket(socket.AF_INET, socket.SOCK_STREAM)\n",
        "\n",
        "        # Set a timeout for receiving data\n",
        "        client_socket.settimeout(timeout)\n",
        "\n",
        "        # Connect the socket to the server's port\n",
        "        server_address = (ip, port)\n",
        "        print(f'Connecting to {ip} on port {port}')\n",
        "        client_socket.connect(server_address)\n",
        "\n",
        "        try:\n",
        "            for data in data_list:\n",
        "                # Determine if the data is in hex or ASCII format and convert accordingly\n",
        "                if data_format == 'hex':\n",
        "                    message = hex_to_bytes(data)\n",
        "                    print(f'Sending hex data: {data}')\n",
        "                elif data_format == 'ascii':\n",
        "                    message = data.encode('ascii')\n",
        "                    print(f'Sending ASCII data: {data}')\n",
        "                else:\n",
        "                    raise ValueError(\"Invalid data format. Choose 'hex' or 'ascii'.\")\n",
        "\n",
        "                # Send the message to the server\n",
        "                client_socket.sendall(message)\n",
        "\n",
        "                if receive_response:\n",
        "                    try:\n",
        "                        # Look for the response\n",
        "                        response = client_socket.recv(1024)\n",
        "                        print(f'Received: {response.hex()}')  # Assuming response will be in hex\n",
        "                    except socket.timeout:\n",
        "                        print(f'No response received within {timeout} seconds, continuing...')\n",
        "\n",
        "        finally:\n",
        "            # Close the socket after all data has been sent\n",
        "            print('Closing socket')\n",
        "            client_socket.close()\n",
        "\n",
        "    except Exception as e:\n",
        "        print(f'An error occurred: {e}')\n",
        "\n",
        "if __name__ == '__main__':\n",
        "    # Example usage\n",
        "    ip = '192.168.0.1'  # Replace with the server's IP address\n",
        "    port = 5001            # Replace with the server's port\n",
        "\n",
        "    # Hex data example\n",
        "    hex_data_list = [\n",
        "    '78780D01086471700328358100093F040D0A',\n",
        "    '78781f121809030e1620c6027917540c4679500f142101cc00243c003e4a027fb7ac0d0a'\n",
        "    ]\n",
        "\n",
        "    # ASCII data example\n",
        "    ascii_data_list = [\n",
        "        '*HQ200862406278000161,AB1&A1103312243149711422697470000040724&B0100000000&F0000&R2900&N04&Y3246011F4202C1460D351F4202C146113A1F4204C1460B3C&Q06f4911e6155e127b04e2640509e325091e3cc45ed4e788a20e024a151f81a679be2a45250d4f7e7dff75b&T63&J000300&K00100&X(k89882280666065148193)(10)(J0000)(PMODE,0,10)(20)(5000A)#',\n",
        "        '*HQ201999999,BA&A1656512233362911356523660000230618&B0100060010&C00000<6<&F0000&R2405&V0109&W0000003E&K00100&T65&I54600027A00FCB6227A00FCA5727A00E955327A00E8B5327A00F9748&Y54600027A000000FCB6227A000000FCA5727A000000E955327A000000E8B5327A000000F9748&b00A7E81007607#'\n",
        "    ]\n",
        "\n",
        "    # Send hex data\n",
        "    # print(\"Sending hex data:\")\n",
        "    # tcp_client(ip, port, hex_data_list, data_format='hex')  # Set data_format to 'hex'\n",
        "\n",
        "    # Send ASCII data\n",
        "    print(\"\\nSending ASCII data:\")\n",
        "    tcp_client(ip, port, ascii_data_list, data_format='ascii')  # Set data_format to 'ascii'\n"
      ]
    }
  ]
}