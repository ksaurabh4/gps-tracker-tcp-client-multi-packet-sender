{
  "nbformat": 4,
  "nbformat_minor": 0,
  "metadata": {
    "colab": {
      "provenance": [],
      "toc_visible": true,
      "authorship_tag": "ABX9TyM7V3zNst/+WDBb/HXjIxVb",
      "include_colab_link": true
    },
    "kernelspec": {
      "name": "python3",
      "display_name": "Python 3"
    },
    "language_info": {
      "name": "python"
    }
  },
  "cells": [
    {
      "cell_type": "markdown",
      "metadata": {
        "id": "view-in-github",
        "colab_type": "text"
      },
      "source": [
        "<a href=\"https://colab.research.google.com/github/ksaurabh4/tcp_client/blob/main/TCP_Client.ipynb\" target=\"_parent\"><img src=\"https://colab.research.google.com/assets/colab-badge.svg\" alt=\"Open In Colab\"/></a>"
      ]
    },
    {
      "cell_type": "code",
      "execution_count": null,
      "metadata": {
        "colab": {
          "base_uri": "https://localhost:8080/"
        },
        "id": "g-nQ0pf2SE_p",
        "outputId": "b01abdf8-bbdf-43c3-b9ac-01b6d613847e"
      },
      "outputs": [
        {
          "output_type": "stream",
          "name": "stdout",
          "text": [
            "Connecting to 173.212.212.92 on port 5025\n",
            "Sending: 78780D01086471700328358100093F040D0A\n",
            "Received: 78780501000955940d0a\n",
            "Sending: 78781f121809030e1620c6027917540c4679500f142101cc00243c003e4a027fb7ac0d0a\n",
            "No response received within 1 seconds, continuing...\n",
            "Closing socket\n"
          ]
        }
      ],
      "source": [
        "import socket\n",
        "import time\n",
        "\n",
        "def hex_to_bytes(hex_str):\n",
        "    \"\"\"Convert a hex string to bytes.\"\"\"\n",
        "    return bytes.fromhex(hex_str)\n",
        "\n",
        "def tcp_client(ip, port, hex_data_list, receive_response=True, timeout=1):\n",
        "    \"\"\"Send multiple hex data packets to a TCP server over the same connection.\"\"\"\n",
        "    try:\n",
        "        # Create a TCP/IP socket\n",
        "        client_socket = socket.socket(socket.AF_INET, socket.SOCK_STREAM)\n",
        "\n",
        "        # Set a timeout for receiving data\n",
        "        client_socket.settimeout(timeout)\n",
        "\n",
        "        # Connect the socket to the server's port\n",
        "        server_address = (ip, port)\n",
        "        print(f'Connecting to {ip} on port {port}')\n",
        "        client_socket.connect(server_address)\n",
        "\n",
        "        try:\n",
        "            for hex_data in hex_data_list:\n",
        "                # Convert hex data to bytes and send it\n",
        "                message = hex_to_bytes(hex_data)\n",
        "                print(f'Sending: {hex_data}')\n",
        "                client_socket.sendall(message)\n",
        "\n",
        "                if receive_response:\n",
        "                    try:\n",
        "                        # Look for the response\n",
        "                        response = client_socket.recv(1024)\n",
        "                        print(f'Received: {response.hex()}')\n",
        "                    except socket.timeout:\n",
        "                        print(f'No response received within {timeout} seconds, continuing...')\n",
        "\n",
        "                # Wait for 1 second before sending the next data\n",
        "                # time.sleep(1)\n",
        "\n",
        "        finally:\n",
        "            # Close the socket after all data has been sent\n",
        "            print('Closing socket')\n",
        "            client_socket.close()\n",
        "\n",
        "    except Exception as e:\n",
        "        print(f'An error occurred: {e}')\n",
        "\n",
        "if __name__ == '__main__':\n",
        "    # Example usage\n",
        "    ip = 'IP'  # Replace with the server's IP address\n",
        "    port = PORT       # Replace with the server's port\n",
        "    hex_data_list = [\n",
        "        '78780D01086471700328358100093F040D0A',\n",
        "        '78781f121809030e1620c6027917540c4679500f142101cc00243c003e4a027fb7ac0d0a'\n",
        "    ]\n",
        "\n",
        "    tcp_client(ip, port, hex_data_list)\n"
      ]
    }
  ]
}